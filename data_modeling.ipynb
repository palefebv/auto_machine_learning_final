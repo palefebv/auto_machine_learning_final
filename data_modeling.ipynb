{
 "cells": [
  {
   "cell_type": "code",
   "execution_count": 1,
   "metadata": {},
   "outputs": [],
   "source": [
    "import os\n",
    "from pathlib import Path\n",
    "import pandas as pd\n",
    "from pandas.plotting import scatter_matrix\n",
    "import numpy as np\n",
    "import pickle\n",
    "from sklearn.model_selection import train_test_split\n",
    "from sklearn.model_selection import cross_val_score\n",
    "from sklearn.model_selection import GridSearchCV\n",
    "from sklearn.metrics import mean_squared_error\n",
    "from sklearn.linear_model import LinearRegression\n",
    "from sklearn.tree import DecisionTreeRegressor\n",
    "from sklearn.ensemble import RandomForestRegressor\n",
    "%matplotlib inline"
   ]
  },
  {
   "cell_type": "code",
   "execution_count": 2,
   "metadata": {},
   "outputs": [],
   "source": [
    "with open(\"data/df_agriculture_cleaned.pkl\", \"rb\") as file:\n",
    "    df_agriculture_cleaned = pickle.load(file)"
   ]
  },
  {
   "cell_type": "code",
   "execution_count": 3,
   "metadata": {},
   "outputs": [],
   "source": [
    "train_set, test_set = train_test_split(df_agriculture_cleaned, test_size=0.2, random_state=42)"
   ]
  },
  {
   "cell_type": "code",
   "execution_count": 4,
   "metadata": {},
   "outputs": [],
   "source": [
    "train_set = train_set[~train_set.isin([np.nan, np.inf, -np.inf]).any(1)]\n",
    "test_set = test_set[~test_set.isin([np.nan, np.inf, -np.inf]).any(1)]"
   ]
  },
  {
   "cell_type": "code",
   "execution_count": 5,
   "metadata": {},
   "outputs": [],
   "source": [
    "food_supply_train_features = train_set.loc[:,['other_use_supply_percentage', 'feed_supply_percentage', 'export_supply_percentage', 'import_supply_percentage']]\n",
    "food_supply_train_target = train_set.loc[:,'food_supply_percentage']\n",
    "\n",
    "food_supply_test_features = test_set.loc[:,['other_use_supply_percentage', 'feed_supply_percentage', 'export_supply_percentage', 'import_supply_percentage']]\n",
    "food_supply_test_target = test_set.loc[:,'food_supply_percentage']"
   ]
  },
  {
   "cell_type": "code",
   "execution_count": 6,
   "metadata": {},
   "outputs": [],
   "source": [
    "def useLinearRegression(train_features, train_target, test_features, test_target):\n",
    "    lr = LinearRegression()\n",
    "    lr.fit(train_features, train_target)\n",
    "    lr_predictions = lr.predict(test_features)\n",
    "    lr_mse = mean_squared_error(test_target, lr_predictions)\n",
    "    lr_rmse = np.sqrt(lr_mse)\n",
    "    lr_cvs_scores = cross_val_score(lr, train_features, train_target, scoring=\"neg_mean_squared_error\", cv=10)\n",
    "    lr_rmse_scores = np.sqrt(-lr_cvs_scores)\n",
    "    lr_rmse_mean_score = lr_rmse_scores.mean()\n",
    "    lr_rmse_std_score = lr_rmse_scores.std()\n",
    "    return [lr_rmse, lr_rmse_mean_score, lr_rmse_std_score]"
   ]
  },
  {
   "cell_type": "code",
   "execution_count": 7,
   "metadata": {},
   "outputs": [],
   "source": [
    "lr_food_supply_scores = useLinearRegression(food_supply_train_features, food_supply_train_target, food_supply_test_features, food_supply_test_target)"
   ]
  },
  {
   "cell_type": "code",
   "execution_count": 8,
   "metadata": {},
   "outputs": [
    {
     "name": "stdout",
     "output_type": "stream",
     "text": [
      "Food Supply - Linear Regression - Root Mean Squared Error: 6.108048483033716\n",
      "Food Supply - Linear Regression - Mean: 5.9768286615664845\n",
      "Food Supply - Linear Regression - STD: 0.6758107508172784\n"
     ]
    }
   ],
   "source": [
    "print(\"Food Supply - Linear Regression - Root Mean Squared Error: {}\".format(lr_food_supply_scores[0]))\n",
    "print(\"Food Supply - Linear Regression - Mean: {}\".format(lr_food_supply_scores[1]))\n",
    "print(\"Food Supply - Linear Regression - STD: {}\".format(lr_food_supply_scores[2]))"
   ]
  },
  {
   "cell_type": "code",
   "execution_count": 9,
   "metadata": {},
   "outputs": [],
   "source": [
    "def useDecisionTreeRegressor(train_features, train_target, test_features, test_target):\n",
    "    dtr = DecisionTreeRegressor()\n",
    "    dtr.fit(train_features, train_target)\n",
    "    dtr_predictions = dtr.predict(test_features)\n",
    "    dtr_mse = mean_squared_error(test_target, dtr_predictions)\n",
    "    dtr_rmse = np.sqrt(dtr_mse)\n",
    "    dtr_scores = cross_val_score(dtr, train_features, train_target, scoring=\"neg_mean_squared_error\", cv=10)\n",
    "    dtr_rmse_scores = np.sqrt(-dtr_scores)\n",
    "    dtr_rmse_mean_score = dtr_rmse_scores.mean()\n",
    "    dtr_rmse_std_score = dtr_rmse_scores.std()\n",
    "    return [dtr_rmse, dtr_rmse_mean_score, dtr_rmse_std_score]"
   ]
  },
  {
   "cell_type": "code",
   "execution_count": 10,
   "metadata": {},
   "outputs": [],
   "source": [
    "dtr_food_supply_scores = useDecisionTreeRegressor(food_supply_train_features, food_supply_train_target, food_supply_test_features, food_supply_test_target)"
   ]
  },
  {
   "cell_type": "code",
   "execution_count": 11,
   "metadata": {},
   "outputs": [
    {
     "name": "stdout",
     "output_type": "stream",
     "text": [
      "Food Supply - Decision Tree Regression - Root Mean Squared Error: 3.9676878035278405\n",
      "Food Supply - Decision Tree Regression - Mean: 5.075420276579883\n",
      "Food Supply - Decision Tree Regression - STD: 2.0469622844887394\n"
     ]
    }
   ],
   "source": [
    "print(\"Food Supply - Decision Tree Regression - Root Mean Squared Error: {}\".format(dtr_food_supply_scores[0]))\n",
    "print(\"Food Supply - Decision Tree Regression - Mean: {}\".format(dtr_food_supply_scores[1]))\n",
    "print(\"Food Supply - Decision Tree Regression - STD: {}\".format(dtr_food_supply_scores[2]))"
   ]
  },
  {
   "cell_type": "code",
   "execution_count": 12,
   "metadata": {},
   "outputs": [],
   "source": [
    "def useRandomForestRegressor(train_features, train_target, test_features, test_target):\n",
    "    rfr = RandomForestRegressor()\n",
    "    rfr.fit(train_features, train_target)\n",
    "    rfr_predictions = rfr.predict(test_features)\n",
    "    rfr_mse = mean_squared_error(test_target, rfr_predictions)\n",
    "    rfr_rmse = np.sqrt(rfr_mse)\n",
    "    rfr_cvs_scores = cross_val_score(rfr, train_features, train_target, scoring=\"neg_mean_squared_error\", cv=10)\n",
    "    rfr_rmse_scores = np.sqrt(-rfr_cvs_scores)\n",
    "    rfr_rmse_mean_score = rfr_rmse_scores.mean()\n",
    "    rfr_rmse_std_score = rfr_rmse_scores.std()\n",
    "    return [rfr_rmse, rfr_rmse_mean_score, rfr_rmse_std_score]"
   ]
  },
  {
   "cell_type": "code",
   "execution_count": 13,
   "metadata": {},
   "outputs": [
    {
     "name": "stderr",
     "output_type": "stream",
     "text": [
      "/anaconda3/lib/python3.6/site-packages/sklearn/ensemble/forest.py:245: FutureWarning: The default value of n_estimators will change from 10 in version 0.20 to 100 in 0.22.\n",
      "  \"10 in version 0.20 to 100 in 0.22.\", FutureWarning)\n"
     ]
    }
   ],
   "source": [
    "rfr_food_supply_scores = useRandomForestRegressor(food_supply_train_features, food_supply_train_target, food_supply_test_features, food_supply_test_target)"
   ]
  },
  {
   "cell_type": "code",
   "execution_count": 14,
   "metadata": {},
   "outputs": [
    {
     "name": "stdout",
     "output_type": "stream",
     "text": [
      "Food Supply - Random Forest Regression - Root Mean Squared Error: 3.9081853412462886\n",
      "Food Supply - Random Forest Regression - Mean: 4.240573854104936\n",
      "Food Supply - Random Forest Regression - STD: 1.5160876849538794\n"
     ]
    }
   ],
   "source": [
    "print(\"Food Supply - Random Forest Regression - Root Mean Squared Error: {}\".format(rfr_food_supply_scores[0]))\n",
    "print(\"Food Supply - Random Forest Regression - Mean: {}\".format(rfr_food_supply_scores[1]))\n",
    "print(\"Food Supply - Random Forest Regression - STD: {}\".format(rfr_food_supply_scores[2]))"
   ]
  },
  {
   "cell_type": "code",
   "execution_count": 15,
   "metadata": {},
   "outputs": [],
   "source": [
    "hparams_grid= [\n",
    "    {'n_estimators': [20, 30, 40, 50], 'max_features': [2, 4]},\n",
    "    {'bootstrap': [False], 'n_estimators': [30, 40, 50, 60], 'max_features': [3, 4]}\n",
    "]"
   ]
  },
  {
   "cell_type": "code",
   "execution_count": 16,
   "metadata": {},
   "outputs": [],
   "source": [
    "rfr_model = RandomForestRegressor(random_state=0)\n",
    "\n",
    "gs = GridSearchCV(rfr_model, hparams_grid, cv=5,\n",
    "                 scoring=\"neg_mean_squared_error\",\n",
    "                 return_train_score=True)"
   ]
  },
  {
   "cell_type": "code",
   "execution_count": 17,
   "metadata": {},
   "outputs": [
    {
     "name": "stderr",
     "output_type": "stream",
     "text": [
      "/anaconda3/lib/python3.6/site-packages/sklearn/model_selection/_search.py:814: DeprecationWarning: The default of the `iid` parameter will change from True to False in version 0.22 and will be removed in 0.24. This will change numeric results when test-set sizes are unequal.\n",
      "  DeprecationWarning)\n"
     ]
    },
    {
     "data": {
      "text/plain": [
       "GridSearchCV(cv=5, error_score='raise-deprecating',\n",
       "             estimator=RandomForestRegressor(bootstrap=True, criterion='mse',\n",
       "                                             max_depth=None,\n",
       "                                             max_features='auto',\n",
       "                                             max_leaf_nodes=None,\n",
       "                                             min_impurity_decrease=0.0,\n",
       "                                             min_impurity_split=None,\n",
       "                                             min_samples_leaf=1,\n",
       "                                             min_samples_split=2,\n",
       "                                             min_weight_fraction_leaf=0.0,\n",
       "                                             n_estimators='warn', n_jobs=None,\n",
       "                                             oob_score=False, random_state=0,\n",
       "                                             verbose=0, warm_start=False),\n",
       "             iid='warn', n_jobs=None,\n",
       "             param_grid=[{'max_features': [2, 4],\n",
       "                          'n_estimators': [20, 30, 40, 50]},\n",
       "                         {'bootstrap': [False], 'max_features': [3, 4],\n",
       "                          'n_estimators': [30, 40, 50, 60]}],\n",
       "             pre_dispatch='2*n_jobs', refit=True, return_train_score=True,\n",
       "             scoring='neg_mean_squared_error', verbose=0)"
      ]
     },
     "execution_count": 17,
     "metadata": {},
     "output_type": "execute_result"
    }
   ],
   "source": [
    "gs.fit(food_supply_train_features, food_supply_train_target)"
   ]
  },
  {
   "cell_type": "code",
   "execution_count": 18,
   "metadata": {},
   "outputs": [
    {
     "data": {
      "text/plain": [
       "{'bootstrap': False, 'max_features': 3, 'n_estimators': 40}"
      ]
     },
     "execution_count": 18,
     "metadata": {},
     "output_type": "execute_result"
    }
   ],
   "source": [
    "gs.best_params_"
   ]
  },
  {
   "cell_type": "code",
   "execution_count": 19,
   "metadata": {},
   "outputs": [
    {
     "data": {
      "text/plain": [
       "RandomForestRegressor(bootstrap=False, criterion='mse', max_depth=None,\n",
       "                      max_features=3, max_leaf_nodes=None,\n",
       "                      min_impurity_decrease=0.0, min_impurity_split=None,\n",
       "                      min_samples_leaf=1, min_samples_split=2,\n",
       "                      min_weight_fraction_leaf=0.0, n_estimators=40,\n",
       "                      n_jobs=None, oob_score=False, random_state=0, verbose=0,\n",
       "                      warm_start=False)"
      ]
     },
     "execution_count": 19,
     "metadata": {},
     "output_type": "execute_result"
    }
   ],
   "source": [
    "gs.best_estimator_"
   ]
  },
  {
   "cell_type": "code",
   "execution_count": 20,
   "metadata": {},
   "outputs": [
    {
     "name": "stdout",
     "output_type": "stream",
     "text": [
      "4.776660562992186 {'max_features': 2, 'n_estimators': 20}\n",
      "4.535641919674319 {'max_features': 2, 'n_estimators': 30}\n",
      "4.550536123847723 {'max_features': 2, 'n_estimators': 40}\n",
      "4.456221809469817 {'max_features': 2, 'n_estimators': 50}\n",
      "4.576296410855213 {'max_features': 4, 'n_estimators': 20}\n",
      "4.553151967212738 {'max_features': 4, 'n_estimators': 30}\n",
      "4.504727448579877 {'max_features': 4, 'n_estimators': 40}\n",
      "4.496003882090672 {'max_features': 4, 'n_estimators': 50}\n",
      "4.064396041011997 {'bootstrap': False, 'max_features': 3, 'n_estimators': 30}\n",
      "4.027579602653438 {'bootstrap': False, 'max_features': 3, 'n_estimators': 40}\n",
      "4.079688012837597 {'bootstrap': False, 'max_features': 3, 'n_estimators': 50}\n",
      "4.058532621695126 {'bootstrap': False, 'max_features': 3, 'n_estimators': 60}\n",
      "5.225559903561239 {'bootstrap': False, 'max_features': 4, 'n_estimators': 30}\n",
      "5.222627636709599 {'bootstrap': False, 'max_features': 4, 'n_estimators': 40}\n",
      "5.219667983149594 {'bootstrap': False, 'max_features': 4, 'n_estimators': 50}\n",
      "5.215042840450928 {'bootstrap': False, 'max_features': 4, 'n_estimators': 60}\n"
     ]
    }
   ],
   "source": [
    "cvres = gs.cv_results_\n",
    "for mean_score, params in zip(cvres['mean_test_score'], cvres['params']):\n",
    "    print(np.sqrt(-mean_score), params)"
   ]
  },
  {
   "cell_type": "code",
   "execution_count": 21,
   "metadata": {},
   "outputs": [],
   "source": [
    "food_supply_feature_importances = gs.best_estimator_.feature_importances_"
   ]
  },
  {
   "cell_type": "code",
   "execution_count": 22,
   "metadata": {},
   "outputs": [
    {
     "data": {
      "text/plain": [
       "[(0.8616603989548646, 'feed_supply_percentage'),\n",
       " (0.07441377152083993, 'other_use_supply_percentage'),\n",
       " (0.03870460128767835, 'export_supply_percentage'),\n",
       " (0.02522122823661716, 'import_supply_percentage')]"
      ]
     },
     "execution_count": 22,
     "metadata": {},
     "output_type": "execute_result"
    }
   ],
   "source": [
    "sorted(zip(food_supply_feature_importances, ['other_use_supply_percentage', 'feed_supply_percentage', 'export_supply_percentage', 'import_supply_percentage']), reverse=True)"
   ]
  },
  {
   "cell_type": "code",
   "execution_count": 23,
   "metadata": {},
   "outputs": [],
   "source": [
    "food_supply_model = RandomForestRegressor(bootstrap=False, criterion='mse', max_depth=None,\n",
    "                      max_features=3, max_leaf_nodes=None,\n",
    "                      min_impurity_decrease=0.0, min_impurity_split=None,\n",
    "                      min_samples_leaf=1, min_samples_split=2,\n",
    "                      min_weight_fraction_leaf=0.0, n_estimators=40,\n",
    "                      n_jobs=None, oob_score=False, random_state=None,\n",
    "                      verbose=0, warm_start=False)"
   ]
  },
  {
   "cell_type": "code",
   "execution_count": 24,
   "metadata": {},
   "outputs": [
    {
     "data": {
      "text/plain": [
       "RandomForestRegressor(bootstrap=False, criterion='mse', max_depth=None,\n",
       "                      max_features=3, max_leaf_nodes=None,\n",
       "                      min_impurity_decrease=0.0, min_impurity_split=None,\n",
       "                      min_samples_leaf=1, min_samples_split=2,\n",
       "                      min_weight_fraction_leaf=0.0, n_estimators=40,\n",
       "                      n_jobs=None, oob_score=False, random_state=None,\n",
       "                      verbose=0, warm_start=False)"
      ]
     },
     "execution_count": 24,
     "metadata": {},
     "output_type": "execute_result"
    }
   ],
   "source": [
    "food_supply_model.fit(food_supply_train_features, food_supply_train_target)"
   ]
  },
  {
   "cell_type": "code",
   "execution_count": 25,
   "metadata": {},
   "outputs": [],
   "source": [
    "food_supply_predictions = food_supply_model.predict(food_supply_test_features)"
   ]
  },
  {
   "cell_type": "code",
   "execution_count": 26,
   "metadata": {},
   "outputs": [],
   "source": [
    "food_supply_mse = mean_squared_error(food_supply_test_target, food_supply_predictions)"
   ]
  },
  {
   "cell_type": "code",
   "execution_count": 27,
   "metadata": {},
   "outputs": [],
   "source": [
    "food_supply_rmse = np.sqrt(food_supply_mse)"
   ]
  },
  {
   "cell_type": "code",
   "execution_count": 28,
   "metadata": {},
   "outputs": [
    {
     "data": {
      "text/plain": [
       "2.623906020523008"
      ]
     },
     "execution_count": 28,
     "metadata": {},
     "output_type": "execute_result"
    }
   ],
   "source": [
    "food_supply_rmse"
   ]
  },
  {
   "cell_type": "code",
   "execution_count": 29,
   "metadata": {},
   "outputs": [],
   "source": [
    "food_supply_scores = cross_val_score(food_supply_model, food_supply_test_features, food_supply_test_target,\n",
    "                           scoring=\"neg_mean_squared_error\", cv=10)"
   ]
  },
  {
   "cell_type": "code",
   "execution_count": 30,
   "metadata": {},
   "outputs": [],
   "source": [
    "food_supply_rmse_scores = np.sqrt(-food_supply_scores)"
   ]
  },
  {
   "cell_type": "code",
   "execution_count": 31,
   "metadata": {},
   "outputs": [
    {
     "name": "stdout",
     "output_type": "stream",
     "text": [
      "Final Model Mean Scores: 6.280656022138692\n",
      "Final Model Scores STD: 2.166475928013373\n"
     ]
    }
   ],
   "source": [
    "print(\"Final Model Mean Scores: {}\".format(food_supply_rmse_scores.mean()))\n",
    "print(\"Final Model Scores STD: {}\".format(food_supply_rmse_scores.std()))"
   ]
  },
  {
   "cell_type": "code",
   "execution_count": 32,
   "metadata": {},
   "outputs": [
    {
     "data": {
      "text/html": [
       "<div>\n",
       "<style scoped>\n",
       "    .dataframe tbody tr th:only-of-type {\n",
       "        vertical-align: middle;\n",
       "    }\n",
       "\n",
       "    .dataframe tbody tr th {\n",
       "        vertical-align: top;\n",
       "    }\n",
       "\n",
       "    .dataframe thead th {\n",
       "        text-align: right;\n",
       "    }\n",
       "</style>\n",
       "<table border=\"1\" class=\"dataframe\">\n",
       "  <thead>\n",
       "    <tr style=\"text-align: right;\">\n",
       "      <th></th>\n",
       "      <th>Producer Price (LCU/tonne)</th>\n",
       "      <th>Price USD</th>\n",
       "      <th>Area harvested</th>\n",
       "      <th>Yield</th>\n",
       "      <th>Domestic Supply</th>\n",
       "      <th>Pesticides</th>\n",
       "      <th>Fertilizer</th>\n",
       "      <th>food_supply_percentage</th>\n",
       "      <th>feed_supply_percentage</th>\n",
       "      <th>export_supply_percentage</th>\n",
       "      <th>other_use_supply_percentage</th>\n",
       "      <th>import_supply_percentage</th>\n",
       "      <th>Price Level</th>\n",
       "    </tr>\n",
       "  </thead>\n",
       "  <tbody>\n",
       "    <tr>\n",
       "      <td>786</td>\n",
       "      <td>1000.0</td>\n",
       "      <td>3327.917000</td>\n",
       "      <td>2515541.0</td>\n",
       "      <td>44941.0</td>\n",
       "      <td>7708.0</td>\n",
       "      <td>6947.9</td>\n",
       "      <td>491831.0</td>\n",
       "      <td>11.390763</td>\n",
       "      <td>85.236118</td>\n",
       "      <td>28.863335</td>\n",
       "      <td>0.038921</td>\n",
       "      <td>4.060716</td>\n",
       "      <td>4.0</td>\n",
       "    </tr>\n",
       "    <tr>\n",
       "      <td>787</td>\n",
       "      <td>2006.0</td>\n",
       "      <td>19368.042336</td>\n",
       "      <td>2781200.0</td>\n",
       "      <td>42466.0</td>\n",
       "      <td>10481.0</td>\n",
       "      <td>26857.0</td>\n",
       "      <td>721481.0</td>\n",
       "      <td>50.405496</td>\n",
       "      <td>44.986165</td>\n",
       "      <td>25.704851</td>\n",
       "      <td>0.000000</td>\n",
       "      <td>0.534300</td>\n",
       "      <td>4.0</td>\n",
       "    </tr>\n",
       "    <tr>\n",
       "      <td>788</td>\n",
       "      <td>198.9</td>\n",
       "      <td>149.803325</td>\n",
       "      <td>442300.0</td>\n",
       "      <td>110445.0</td>\n",
       "      <td>10421.0</td>\n",
       "      <td>54197.0</td>\n",
       "      <td>1749149.0</td>\n",
       "      <td>0.892429</td>\n",
       "      <td>87.515594</td>\n",
       "      <td>6.526187</td>\n",
       "      <td>10.411669</td>\n",
       "      <td>54.678054</td>\n",
       "      <td>3.0</td>\n",
       "    </tr>\n",
       "    <tr>\n",
       "      <td>789</td>\n",
       "      <td>611.9</td>\n",
       "      <td>1164.915639</td>\n",
       "      <td>659222.0</td>\n",
       "      <td>89499.0</td>\n",
       "      <td>7053.0</td>\n",
       "      <td>39440.0</td>\n",
       "      <td>2312134.0</td>\n",
       "      <td>25.818801</td>\n",
       "      <td>58.131292</td>\n",
       "      <td>6.728814</td>\n",
       "      <td>10.562881</td>\n",
       "      <td>21.976464</td>\n",
       "      <td>4.0</td>\n",
       "    </tr>\n",
       "    <tr>\n",
       "      <td>790</td>\n",
       "      <td>176.0</td>\n",
       "      <td>176.000000</td>\n",
       "      <td>35390550.0</td>\n",
       "      <td>99256.0</td>\n",
       "      <td>292776.0</td>\n",
       "      <td>407779.2</td>\n",
       "      <td>20994055.0</td>\n",
       "      <td>1.337883</td>\n",
       "      <td>43.727628</td>\n",
       "      <td>6.970616</td>\n",
       "      <td>46.801309</td>\n",
       "      <td>1.227901</td>\n",
       "      <td>3.0</td>\n",
       "    </tr>\n",
       "  </tbody>\n",
       "</table>\n",
       "</div>"
      ],
      "text/plain": [
       "     Producer Price (LCU/tonne)     Price USD  Area harvested     Yield  \\\n",
       "786                      1000.0   3327.917000       2515541.0   44941.0   \n",
       "787                      2006.0  19368.042336       2781200.0   42466.0   \n",
       "788                       198.9    149.803325        442300.0  110445.0   \n",
       "789                       611.9   1164.915639        659222.0   89499.0   \n",
       "790                       176.0    176.000000      35390550.0   99256.0   \n",
       "\n",
       "     Domestic Supply  Pesticides  Fertilizer  food_supply_percentage  \\\n",
       "786           7708.0      6947.9    491831.0               11.390763   \n",
       "787          10481.0     26857.0    721481.0               50.405496   \n",
       "788          10421.0     54197.0   1749149.0                0.892429   \n",
       "789           7053.0     39440.0   2312134.0               25.818801   \n",
       "790         292776.0    407779.2  20994055.0                1.337883   \n",
       "\n",
       "     feed_supply_percentage  export_supply_percentage  \\\n",
       "786               85.236118                 28.863335   \n",
       "787               44.986165                 25.704851   \n",
       "788               87.515594                  6.526187   \n",
       "789               58.131292                  6.728814   \n",
       "790               43.727628                  6.970616   \n",
       "\n",
       "     other_use_supply_percentage  import_supply_percentage  Price Level  \n",
       "786                     0.038921                  4.060716          4.0  \n",
       "787                     0.000000                  0.534300          4.0  \n",
       "788                    10.411669                 54.678054          3.0  \n",
       "789                    10.562881                 21.976464          4.0  \n",
       "790                    46.801309                  1.227901          3.0  "
      ]
     },
     "execution_count": 32,
     "metadata": {},
     "output_type": "execute_result"
    }
   ],
   "source": [
    "df_agriculture_cleaned.tail()"
   ]
  },
  {
   "cell_type": "code",
   "execution_count": 42,
   "metadata": {},
   "outputs": [
    {
     "data": {
      "text/plain": [
       "array([7.14126168])"
      ]
     },
     "execution_count": 42,
     "metadata": {},
     "output_type": "execute_result"
    }
   ],
   "source": [
    "increase = -20\n",
    "export_supply_percentage = 0.152328\n",
    "import_supply_percentage = -0.084344\n",
    "feed_supply_percentage = -0.150412\n",
    "food_supply_percentage = -0.158367\n",
    "#'other_use_supply_percentage', 'feed_supply_percentage', 'export_supply_percentage', 'import_supply_percentage'\n",
    "#food_supply_model.predict([[46.8 + increase, 43.7 + (increase*feed_supply_percentage), 8.42 + (increase*export_supply_percentage), 1.22 + (increase*import_supply_percentage)]])\n",
    "food_supply_model.predict([[46.8, 43.7, 15, 0.5]])"
   ]
  }
 ],
 "metadata": {
  "kernelspec": {
   "display_name": "Python 3",
   "language": "python",
   "name": "python3"
  },
  "language_info": {
   "codemirror_mode": {
    "name": "ipython",
    "version": 3
   },
   "file_extension": ".py",
   "mimetype": "text/x-python",
   "name": "python",
   "nbconvert_exporter": "python",
   "pygments_lexer": "ipython3",
   "version": "3.6.9"
  }
 },
 "nbformat": 4,
 "nbformat_minor": 4
}
