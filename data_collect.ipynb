{
 "cells": [
  {
   "cell_type": "code",
   "execution_count": 1,
   "metadata": {},
   "outputs": [],
   "source": [
    "import os\n",
    "from pathlib import Path\n",
    "import pandas as pd\n",
    "import numpy as np\n",
    "import pickle\n",
    "from sklearn.impute import SimpleImputer\n",
    "from sklearn.pipeline import Pipeline\n",
    "from sklearn.base import BaseEstimator, TransformerMixin"
   ]
  },
  {
   "cell_type": "markdown",
   "metadata": {},
   "source": [
    "<h2>GET ALL DATA FROM UNITED NATIONS FOOD AND AGRICULTURE ORGANIZATION CSVs</h2>"
   ]
  },
  {
   "cell_type": "code",
   "execution_count": 2,
   "metadata": {},
   "outputs": [],
   "source": [
    "#Load the crop data\n",
    "ag_production_filepath = Path('data','production_breakdown.csv')\n",
    "ag_df = pd.read_csv(ag_production_filepath)\n",
    "# Load the country code data\n",
    "cc_filepath = Path('data', 'country-codes.csv')\n",
    "cc_df = pd.read_csv(cc_filepath)\n",
    "# Load exchange rate data\n",
    "xr_filepath = Path('data', 'exchange_rates.csv')\n",
    "xr_df = pd.read_csv(xr_filepath)\n",
    "#Load the fertilizer data\n",
    "ft_filepath = Path('data', 'fertilizer_total.csv')\n",
    "ft_df = pd.read_csv(ft_filepath)\n",
    "ftn_filepath = Path('data', 'fertilizer_by_nutrients.csv')\n",
    "ftn_df = pd.read_csv(ftn_filepath)\n",
    "#Load the pesticide data\n",
    "pt_filepath = Path('data', 'pesticides.csv')\n",
    "pt_df = pd.read_csv(pt_filepath)"
   ]
  },
  {
   "cell_type": "code",
   "execution_count": 22,
   "metadata": {},
   "outputs": [],
   "source": [
    "#create a new dataframe to house all the data from the csvs\n",
    "df = pd.DataFrame()"
   ]
  },
  {
   "cell_type": "code",
   "execution_count": 3,
   "metadata": {},
   "outputs": [],
   "source": [
    "# Get a List of All Countries\n",
    "countries_list = ag_df['Area'].drop_duplicates().sort_values()\n",
    "# Get a List of All Years\n",
    "years_list = ag_df['Year'].drop_duplicates().sort_values()\n",
    "# Get a List of All Elements in the Production Data\n",
    "elements_list = ag_df['Element'].drop_duplicates().sort_values()"
   ]
  },
  {
   "cell_type": "code",
   "execution_count": 4,
   "metadata": {},
   "outputs": [],
   "source": [
    "years_series = pd.Series(years_list)\n",
    "country_series = pd.Series(countries_list)\n",
    "elements_series = pd.Series(elements_list)"
   ]
  },
  {
   "cell_type": "code",
   "execution_count": 5,
   "metadata": {},
   "outputs": [],
   "source": [
    "countries_set = []\n",
    "for index, value in years_series.items():\n",
    "    for c_index, c_value in country_series.items():\n",
    "            countries_set.append(c_value)"
   ]
  },
  {
   "cell_type": "code",
   "execution_count": 6,
   "metadata": {},
   "outputs": [],
   "source": [
    "years_set = []\n",
    "for y_index, y_value in years_series.items():\n",
    "    for c_index, c_value in country_series.items():\n",
    "        years_set.append(y_value)"
   ]
  },
  {
   "cell_type": "code",
   "execution_count": 155,
   "metadata": {},
   "outputs": [],
   "source": [
    "df['Country'] = countries_set"
   ]
  },
  {
   "cell_type": "code",
   "execution_count": 156,
   "metadata": {},
   "outputs": [],
   "source": [
    "df['Year'] = years_set"
   ]
  },
  {
   "cell_type": "code",
   "execution_count": null,
   "metadata": {},
   "outputs": [],
   "source": [
    "#set the country codes - needed for exchange rate\n",
    "for index, row in cc_df.iterrows():\n",
    "    df.loc[df['Country'] == row['Country'], 'Country Code'] = row['Country_Code']"
   ]
  },
  {
   "cell_type": "code",
   "execution_count": null,
   "metadata": {},
   "outputs": [],
   "source": [
    "#set the exchange rate - needed for Price USD\n",
    "for index, row in xr_df.iterrows():\n",
    "    df.loc[(df[\"Year\"] == row[\"TIME\"]) & (df[\"Country Code\"] == row[\"LOCATION\"]), 'Exchange Rate'] = row['Value']"
   ]
  },
  {
   "cell_type": "code",
   "execution_count": 26,
   "metadata": {},
   "outputs": [],
   "source": [
    "#set up pesticides\n",
    "for year in range(1990,2018):\n",
    "    for country in country_series:\n",
    "        if(pt_df.loc[(pt_df['Year'] == year) & (pt_df['Area'] == country), \"Value\"].values.size > 0):\n",
    "            df.loc[(df['Year'] == year) & (df['Country'] == country), \"Pesticides\"] = pt_df.loc[(pt_df['Year'] == year) & (pt_df['Area'] == country), \"Value\"].values[0]            "
   ]
  },
  {
   "cell_type": "code",
   "execution_count": 19,
   "metadata": {},
   "outputs": [],
   "source": [
    "#set up fertilizer\n",
    "for year in range(df['Year'].min(),(df['Year'].max()+1)):\n",
    "    for country in country_series:\n",
    "        if(ft_df.loc[(ft_df['Year'] == year) & (ft_df['Country'] == country), \"Value\"].values.size > 0):\n",
    "                df.loc[(df['Year'] == year) & (df['Country'] == country), \"Fertilizer\"] = ft_df.loc[(ft_df['Year'] == year) & (ft_df['Country'] == country), \"Value\"].values[0]"
   ]
  },
  {
   "cell_type": "code",
   "execution_count": null,
   "metadata": {},
   "outputs": [],
   "source": [
    "def element_data(element):\n",
    "    for year in range(df['Year'].min(),(df['Year'].max()+1)):\n",
    "        for country in country_series:\n",
    "            if(ag_df.loc[(ag_df['Year'] == year) & (ag_df['Area'] == country) & (ag_df['Element'] == element), \"Value\"].values.size > 0):\n",
    "                df.loc[(df['Year'] == year) & (df['Country'] == country), element] = ag_df.loc[(ag_df['Year'] == year) & (ag_df['Area'] == country) & (ag_df['Element'] == element), \"Value\"].values[0]"
   ]
  },
  {
   "cell_type": "code",
   "execution_count": null,
   "metadata": {},
   "outputs": [],
   "source": [
    "for index, value in elements_series.items():\n",
    "    df[value] = 0 "
   ]
  },
  {
   "cell_type": "code",
   "execution_count": null,
   "metadata": {},
   "outputs": [],
   "source": [
    "#set domestic supply to allow percentage columns \n",
    "df[\"Domestic Supply\"] = df[\"Production\"] + df[\"Import Quantity\"] - df[\"Export Quantity\"] + df[\"Stock Variation\"]"
   ]
  },
  {
   "cell_type": "code",
   "execution_count": 14,
   "metadata": {},
   "outputs": [],
   "source": [
    "ftn_group = ftn_df.groupby([\"Area\", \"Year\"])[\"Value\"].sum()\n",
    "for index, value in ftn_group.items():\n",
    "    df.loc[(df['Year'] == index[1]) & (df['Country'] == index[0]), \"Fertilizer\"] = value"
   ]
  },
  {
   "cell_type": "code",
   "execution_count": 172,
   "metadata": {},
   "outputs": [],
   "source": [
    "# This gets most of the features/column info\n",
    "for e_index, e_value in elements_series.items():\n",
    "    element_data(e_value)"
   ]
  },
  {
   "cell_type": "code",
   "execution_count": null,
   "metadata": {},
   "outputs": [],
   "source": [
    "df[\"Price USD\"] = df['Producer Price (LCU/tonne)'] * df['Exchange Rate']"
   ]
  },
  {
   "cell_type": "code",
   "execution_count": 7,
   "metadata": {},
   "outputs": [],
   "source": [
    "df['food_supply_percentage'] = df['Food']/df['Domestic Supply']*100\n",
    "df['feed_supply_percentage'] = df['Feed']/df['Domestic Supply']*100\n",
    "df['other_use_supply_percentage'] = df['Other uses (non-food)']/df['Domestic Supply']*100\n",
    "\n",
    "# Exports need to be a percentage of domestic production, as you can only export what you actually grew\n",
    "df['export_supply_percentage'] = df['Export Quantity']/df['Production']*100 \n",
    "df['import_supply_percentage'] = df['Import Quantity']/df['Domestic Supply']*100\n"
   ]
  },
  {
   "cell_type": "code",
   "execution_count": null,
   "metadata": {},
   "outputs": [],
   "source": [
    "df.loc[(df['Exchange Rate'].notnull()) & (df['Producer Price (LCU/tonne)'].notnull())]"
   ]
  },
  {
   "cell_type": "code",
   "execution_count": 8,
   "metadata": {},
   "outputs": [],
   "source": [
    "# Create Pickle Files\n",
    "df.to_pickle(\"df.pkl\")"
   ]
  },
  {
   "cell_type": "markdown",
   "metadata": {},
   "source": [
    "<h2>Use Pickle File To Populate DataFrame</h2>"
   ]
  },
  {
   "cell_type": "code",
   "execution_count": 3,
   "metadata": {},
   "outputs": [],
   "source": [
    "with open(\"df.pkl\", \"rb\") as file:\n",
    "    df = pickle.load(file)"
   ]
  },
  {
   "cell_type": "code",
   "execution_count": 6,
   "metadata": {},
   "outputs": [
    {
     "data": {
      "text/html": [
       "<div>\n",
       "<style scoped>\n",
       "    .dataframe tbody tr th:only-of-type {\n",
       "        vertical-align: middle;\n",
       "    }\n",
       "\n",
       "    .dataframe tbody tr th {\n",
       "        vertical-align: top;\n",
       "    }\n",
       "\n",
       "    .dataframe thead th {\n",
       "        text-align: right;\n",
       "    }\n",
       "</style>\n",
       "<table border=\"1\" class=\"dataframe\">\n",
       "  <thead>\n",
       "    <tr style=\"text-align: right;\">\n",
       "      <th></th>\n",
       "      <th>Country</th>\n",
       "      <th>Year</th>\n",
       "      <th>Country Code</th>\n",
       "      <th>Exchange Rate</th>\n",
       "      <th>Producer Price (LCU/tonne)</th>\n",
       "      <th>Price USD</th>\n",
       "      <th>Area harvested</th>\n",
       "      <th>Export Quantity</th>\n",
       "      <th>Feed</th>\n",
       "      <th>Food</th>\n",
       "      <th>...</th>\n",
       "      <th>Stock Variation</th>\n",
       "      <th>Yield</th>\n",
       "      <th>Domestic Supply</th>\n",
       "      <th>Pesticides</th>\n",
       "      <th>Fertilizer</th>\n",
       "      <th>food_supply_percentage</th>\n",
       "      <th>feed_supply_percentage</th>\n",
       "      <th>export_supply_percentage</th>\n",
       "      <th>other_use_supply_percentage</th>\n",
       "      <th>import_supply_percentage</th>\n",
       "    </tr>\n",
       "  </thead>\n",
       "  <tbody>\n",
       "    <tr>\n",
       "      <td>14089</td>\n",
       "      <td>Western Sahara</td>\n",
       "      <td>2018</td>\n",
       "      <td>ESH</td>\n",
       "      <td>NaN</td>\n",
       "      <td>NaN</td>\n",
       "      <td>NaN</td>\n",
       "      <td>NaN</td>\n",
       "      <td>NaN</td>\n",
       "      <td>NaN</td>\n",
       "      <td>NaN</td>\n",
       "      <td>...</td>\n",
       "      <td>NaN</td>\n",
       "      <td>NaN</td>\n",
       "      <td>NaN</td>\n",
       "      <td>NaN</td>\n",
       "      <td>NaN</td>\n",
       "      <td>NaN</td>\n",
       "      <td>NaN</td>\n",
       "      <td>NaN</td>\n",
       "      <td>NaN</td>\n",
       "      <td>NaN</td>\n",
       "    </tr>\n",
       "    <tr>\n",
       "      <td>14090</td>\n",
       "      <td>Yemen</td>\n",
       "      <td>2018</td>\n",
       "      <td>YEM</td>\n",
       "      <td>NaN</td>\n",
       "      <td>NaN</td>\n",
       "      <td>NaN</td>\n",
       "      <td>37231.0</td>\n",
       "      <td>NaN</td>\n",
       "      <td>NaN</td>\n",
       "      <td>NaN</td>\n",
       "      <td>...</td>\n",
       "      <td>NaN</td>\n",
       "      <td>11546.0</td>\n",
       "      <td>NaN</td>\n",
       "      <td>NaN</td>\n",
       "      <td>NaN</td>\n",
       "      <td>NaN</td>\n",
       "      <td>NaN</td>\n",
       "      <td>NaN</td>\n",
       "      <td>NaN</td>\n",
       "      <td>NaN</td>\n",
       "    </tr>\n",
       "    <tr>\n",
       "      <td>14091</td>\n",
       "      <td>Yugoslav SFR</td>\n",
       "      <td>2018</td>\n",
       "      <td>NaN</td>\n",
       "      <td>NaN</td>\n",
       "      <td>NaN</td>\n",
       "      <td>NaN</td>\n",
       "      <td>NaN</td>\n",
       "      <td>NaN</td>\n",
       "      <td>NaN</td>\n",
       "      <td>NaN</td>\n",
       "      <td>...</td>\n",
       "      <td>NaN</td>\n",
       "      <td>NaN</td>\n",
       "      <td>NaN</td>\n",
       "      <td>NaN</td>\n",
       "      <td>NaN</td>\n",
       "      <td>NaN</td>\n",
       "      <td>NaN</td>\n",
       "      <td>NaN</td>\n",
       "      <td>NaN</td>\n",
       "      <td>NaN</td>\n",
       "    </tr>\n",
       "    <tr>\n",
       "      <td>14092</td>\n",
       "      <td>Zambia</td>\n",
       "      <td>2018</td>\n",
       "      <td>ZMB</td>\n",
       "      <td>NaN</td>\n",
       "      <td>1856.8</td>\n",
       "      <td>NaN</td>\n",
       "      <td>1086006.0</td>\n",
       "      <td>NaN</td>\n",
       "      <td>NaN</td>\n",
       "      <td>NaN</td>\n",
       "      <td>...</td>\n",
       "      <td>NaN</td>\n",
       "      <td>22052.0</td>\n",
       "      <td>NaN</td>\n",
       "      <td>NaN</td>\n",
       "      <td>NaN</td>\n",
       "      <td>NaN</td>\n",
       "      <td>NaN</td>\n",
       "      <td>NaN</td>\n",
       "      <td>NaN</td>\n",
       "      <td>NaN</td>\n",
       "    </tr>\n",
       "    <tr>\n",
       "      <td>14093</td>\n",
       "      <td>Zimbabwe</td>\n",
       "      <td>2018</td>\n",
       "      <td>ZWE</td>\n",
       "      <td>NaN</td>\n",
       "      <td>NaN</td>\n",
       "      <td>NaN</td>\n",
       "      <td>1191425.0</td>\n",
       "      <td>NaN</td>\n",
       "      <td>NaN</td>\n",
       "      <td>NaN</td>\n",
       "      <td>...</td>\n",
       "      <td>NaN</td>\n",
       "      <td>6131.0</td>\n",
       "      <td>NaN</td>\n",
       "      <td>NaN</td>\n",
       "      <td>NaN</td>\n",
       "      <td>NaN</td>\n",
       "      <td>NaN</td>\n",
       "      <td>NaN</td>\n",
       "      <td>NaN</td>\n",
       "      <td>NaN</td>\n",
       "    </tr>\n",
       "  </tbody>\n",
       "</table>\n",
       "<p>5 rows × 26 columns</p>\n",
       "</div>"
      ],
      "text/plain": [
       "              Country  Year Country Code  Exchange Rate  \\\n",
       "14089  Western Sahara  2018          ESH            NaN   \n",
       "14090           Yemen  2018          YEM            NaN   \n",
       "14091    Yugoslav SFR  2018          NaN            NaN   \n",
       "14092          Zambia  2018          ZMB            NaN   \n",
       "14093        Zimbabwe  2018          ZWE            NaN   \n",
       "\n",
       "       Producer Price (LCU/tonne)  Price USD  Area harvested  Export Quantity  \\\n",
       "14089                         NaN        NaN             NaN              NaN   \n",
       "14090                         NaN        NaN         37231.0              NaN   \n",
       "14091                         NaN        NaN             NaN              NaN   \n",
       "14092                      1856.8        NaN       1086006.0              NaN   \n",
       "14093                         NaN        NaN       1191425.0              NaN   \n",
       "\n",
       "       Feed  Food  ...  Stock Variation    Yield  Domestic Supply  Pesticides  \\\n",
       "14089   NaN   NaN  ...              NaN      NaN              NaN         NaN   \n",
       "14090   NaN   NaN  ...              NaN  11546.0              NaN         NaN   \n",
       "14091   NaN   NaN  ...              NaN      NaN              NaN         NaN   \n",
       "14092   NaN   NaN  ...              NaN  22052.0              NaN         NaN   \n",
       "14093   NaN   NaN  ...              NaN   6131.0              NaN         NaN   \n",
       "\n",
       "       Fertilizer  food_supply_percentage  feed_supply_percentage  \\\n",
       "14089         NaN                     NaN                     NaN   \n",
       "14090         NaN                     NaN                     NaN   \n",
       "14091         NaN                     NaN                     NaN   \n",
       "14092         NaN                     NaN                     NaN   \n",
       "14093         NaN                     NaN                     NaN   \n",
       "\n",
       "       export_supply_percentage  other_use_supply_percentage  \\\n",
       "14089                       NaN                          NaN   \n",
       "14090                       NaN                          NaN   \n",
       "14091                       NaN                          NaN   \n",
       "14092                       NaN                          NaN   \n",
       "14093                       NaN                          NaN   \n",
       "\n",
       "       import_supply_percentage  \n",
       "14089                       NaN  \n",
       "14090                       NaN  \n",
       "14091                       NaN  \n",
       "14092                       NaN  \n",
       "14093                       NaN  \n",
       "\n",
       "[5 rows x 26 columns]"
      ]
     },
     "execution_count": 6,
     "metadata": {},
     "output_type": "execute_result"
    }
   ],
   "source": [
    "df.tail()"
   ]
  }
 ],
 "metadata": {
  "kernelspec": {
   "display_name": "Python 3",
   "language": "python",
   "name": "python3"
  },
  "language_info": {
   "codemirror_mode": {
    "name": "ipython",
    "version": 3
   },
   "file_extension": ".py",
   "mimetype": "text/x-python",
   "name": "python",
   "nbconvert_exporter": "python",
   "pygments_lexer": "ipython3",
   "version": "3.6.9"
  }
 },
 "nbformat": 4,
 "nbformat_minor": 4
}
